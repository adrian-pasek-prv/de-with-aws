{
 "cells": [
  {
   "cell_type": "code",
   "execution_count": 138,
   "id": "1150e601",
   "metadata": {},
   "outputs": [],
   "source": [
    "from pyspark.sql import SparkSession\n",
    "import pandas as pd\n",
    "import matplotlib"
   ]
  },
  {
   "cell_type": "code",
   "execution_count": 139,
   "id": "b50778e8",
   "metadata": {},
   "outputs": [],
   "source": [
    "spark = SparkSession.builder.getOrCreate()"
   ]
  },
  {
   "cell_type": "code",
   "execution_count": 140,
   "id": "21aa3889",
   "metadata": {},
   "outputs": [
    {
     "name": "stdout",
     "output_type": "stream",
     "text": [
      "URL transformed to HTTPS due to an HSTS policy\n",
      "--2023-07-17 06:50:06--  https://ita.ee.lbl.gov/traces/NASA_access_log_Jul95.gz\n",
      "Resolving ita.ee.lbl.gov (ita.ee.lbl.gov)... 131.243.2.164, 2620:83:8000:102::a4\n",
      "Connecting to ita.ee.lbl.gov (ita.ee.lbl.gov)|131.243.2.164|:443... connected.\n",
      "HTTP request sent, awaiting response... 200 OK\n",
      "Length: 20676672 (20M) [application/x-gzip]\n",
      "Saving to: ‘NASA_access_log_Jul95.gz’\n",
      "\n",
      "NASA_access_log_Jul 100%[===================>]  19.72M  5.19MB/s    in 5.7s    \n",
      "\n",
      "2023-07-17 06:50:12 (3.47 MB/s) - ‘NASA_access_log_Jul95.gz’ saved [20676672/20676672]\n",
      "\n"
     ]
    }
   ],
   "source": [
    "# Download .gz file to current directory\n",
    "!wget -O NASA_access_log_Jul95.gz http://ita.ee.lbl.gov/traces/NASA_access_log_Jul95.gz"
   ]
  },
  {
   "cell_type": "code",
   "execution_count": 141,
   "id": "148b7c07",
   "metadata": {
    "scrolled": false
   },
   "outputs": [
    {
     "name": "stdout",
     "output_type": "stream",
     "text": [
      "root\n",
      " |-- value: string (nullable = true)\n",
      "\n"
     ]
    }
   ],
   "source": [
    "# Read .gz file from current directory and print schema\n",
    "df_log = spark.read.text('NASA_access_log_Jul95.gz')\n",
    "df_log.printSchema()"
   ]
  },
  {
   "cell_type": "markdown",
   "id": "6b83a55e",
   "metadata": {},
   "source": [
    "### This file has a single \"column\" that encapsulates different information"
   ]
  },
  {
   "cell_type": "code",
   "execution_count": 142,
   "id": "3a1a7075",
   "metadata": {},
   "outputs": [
    {
     "data": {
      "text/html": [
       "<div>\n",
       "<style scoped>\n",
       "    .dataframe tbody tr th:only-of-type {\n",
       "        vertical-align: middle;\n",
       "    }\n",
       "\n",
       "    .dataframe tbody tr th {\n",
       "        vertical-align: top;\n",
       "    }\n",
       "\n",
       "    .dataframe thead th {\n",
       "        text-align: right;\n",
       "    }\n",
       "</style>\n",
       "<table border=\"1\" class=\"dataframe\">\n",
       "  <thead>\n",
       "    <tr style=\"text-align: right;\">\n",
       "      <th></th>\n",
       "      <th>value</th>\n",
       "    </tr>\n",
       "  </thead>\n",
       "  <tbody>\n",
       "    <tr>\n",
       "      <th>0</th>\n",
       "      <td>199.72.81.55 - - [01/Jul/1995:00:00:01 -0400] \"GET /history/apollo/ HTTP/1.0\" 200 6245</td>\n",
       "    </tr>\n",
       "    <tr>\n",
       "      <th>1</th>\n",
       "      <td>unicomp6.unicomp.net - - [01/Jul/1995:00:00:06 -0400] \"GET /shuttle/countdown/ HTTP/1.0\" 200 3985</td>\n",
       "    </tr>\n",
       "    <tr>\n",
       "      <th>2</th>\n",
       "      <td>199.120.110.21 - - [01/Jul/1995:00:00:09 -0400] \"GET /shuttle/missions/sts-73/mission-sts-73.html HTTP/1.0\" 200 4085</td>\n",
       "    </tr>\n",
       "    <tr>\n",
       "      <th>3</th>\n",
       "      <td>burger.letters.com - - [01/Jul/1995:00:00:11 -0400] \"GET /shuttle/countdown/liftoff.html HTTP/1.0\" 304 0</td>\n",
       "    </tr>\n",
       "    <tr>\n",
       "      <th>4</th>\n",
       "      <td>199.120.110.21 - - [01/Jul/1995:00:00:11 -0400] \"GET /shuttle/missions/sts-73/sts-73-patch-small.gif HTTP/1.0\" 200 4179</td>\n",
       "    </tr>\n",
       "  </tbody>\n",
       "</table>\n",
       "</div>"
      ],
      "text/plain": [
       "                                                                                                                     value\n",
       "0                                   199.72.81.55 - - [01/Jul/1995:00:00:01 -0400] \"GET /history/apollo/ HTTP/1.0\" 200 6245\n",
       "1                        unicomp6.unicomp.net - - [01/Jul/1995:00:00:06 -0400] \"GET /shuttle/countdown/ HTTP/1.0\" 200 3985\n",
       "2     199.120.110.21 - - [01/Jul/1995:00:00:09 -0400] \"GET /shuttle/missions/sts-73/mission-sts-73.html HTTP/1.0\" 200 4085\n",
       "3                 burger.letters.com - - [01/Jul/1995:00:00:11 -0400] \"GET /shuttle/countdown/liftoff.html HTTP/1.0\" 304 0\n",
       "4  199.120.110.21 - - [01/Jul/1995:00:00:11 -0400] \"GET /shuttle/missions/sts-73/sts-73-patch-small.gif HTTP/1.0\" 200 4179"
      ]
     },
     "execution_count": 142,
     "metadata": {},
     "output_type": "execute_result"
    }
   ],
   "source": [
    "# Show dataframe with pandas\n",
    "pd.set_option('display.max_colwidth', 200)\n",
    "df_log.limit(5).toPandas()"
   ]
  },
  {
   "cell_type": "markdown",
   "id": "f2dd5005",
   "metadata": {},
   "source": [
    "### Try to parse it with spark split function by space\n"
   ]
  },
  {
   "cell_type": "code",
   "execution_count": 143,
   "id": "e77a2be9",
   "metadata": {},
   "outputs": [
    {
     "data": {
      "text/html": [
       "<div>\n",
       "<style scoped>\n",
       "    .dataframe tbody tr th:only-of-type {\n",
       "        vertical-align: middle;\n",
       "    }\n",
       "\n",
       "    .dataframe tbody tr th {\n",
       "        vertical-align: top;\n",
       "    }\n",
       "\n",
       "    .dataframe thead th {\n",
       "        text-align: right;\n",
       "    }\n",
       "</style>\n",
       "<table border=\"1\" class=\"dataframe\">\n",
       "  <thead>\n",
       "    <tr style=\"text-align: right;\">\n",
       "      <th></th>\n",
       "      <th>value</th>\n",
       "      <th>split</th>\n",
       "    </tr>\n",
       "  </thead>\n",
       "  <tbody>\n",
       "    <tr>\n",
       "      <th>0</th>\n",
       "      <td>199.72.81.55 - - [01/Jul/1995:00:00:01 -0400] \"GET /history/apollo/ HTTP/1.0\" 200 6245</td>\n",
       "      <td>[199.72.81.55, -, -, [01/Jul/1995:00:00:01, -0400], \"GET, /history/apollo/, HTTP/1.0\", 200, 6245]</td>\n",
       "    </tr>\n",
       "    <tr>\n",
       "      <th>1</th>\n",
       "      <td>unicomp6.unicomp.net - - [01/Jul/1995:00:00:06 -0400] \"GET /shuttle/countdown/ HTTP/1.0\" 200 3985</td>\n",
       "      <td>[unicomp6.unicomp.net, -, -, [01/Jul/1995:00:00:06, -0400], \"GET, /shuttle/countdown/, HTTP/1.0\", 200, 3985]</td>\n",
       "    </tr>\n",
       "    <tr>\n",
       "      <th>2</th>\n",
       "      <td>199.120.110.21 - - [01/Jul/1995:00:00:09 -0400] \"GET /shuttle/missions/sts-73/mission-sts-73.html HTTP/1.0\" 200 4085</td>\n",
       "      <td>[199.120.110.21, -, -, [01/Jul/1995:00:00:09, -0400], \"GET, /shuttle/missions/sts-73/mission-sts-73.html, HTTP/1.0\", 200, 4085]</td>\n",
       "    </tr>\n",
       "    <tr>\n",
       "      <th>3</th>\n",
       "      <td>burger.letters.com - - [01/Jul/1995:00:00:11 -0400] \"GET /shuttle/countdown/liftoff.html HTTP/1.0\" 304 0</td>\n",
       "      <td>[burger.letters.com, -, -, [01/Jul/1995:00:00:11, -0400], \"GET, /shuttle/countdown/liftoff.html, HTTP/1.0\", 304, 0]</td>\n",
       "    </tr>\n",
       "    <tr>\n",
       "      <th>4</th>\n",
       "      <td>199.120.110.21 - - [01/Jul/1995:00:00:11 -0400] \"GET /shuttle/missions/sts-73/sts-73-patch-small.gif HTTP/1.0\" 200 4179</td>\n",
       "      <td>[199.120.110.21, -, -, [01/Jul/1995:00:00:11, -0400], \"GET, /shuttle/missions/sts-73/sts-73-patch-small.gif, HTTP/1.0\", 200, 4179]</td>\n",
       "    </tr>\n",
       "  </tbody>\n",
       "</table>\n",
       "</div>"
      ],
      "text/plain": [
       "                                                                                                                     value  \\\n",
       "0                                   199.72.81.55 - - [01/Jul/1995:00:00:01 -0400] \"GET /history/apollo/ HTTP/1.0\" 200 6245   \n",
       "1                        unicomp6.unicomp.net - - [01/Jul/1995:00:00:06 -0400] \"GET /shuttle/countdown/ HTTP/1.0\" 200 3985   \n",
       "2     199.120.110.21 - - [01/Jul/1995:00:00:09 -0400] \"GET /shuttle/missions/sts-73/mission-sts-73.html HTTP/1.0\" 200 4085   \n",
       "3                 burger.letters.com - - [01/Jul/1995:00:00:11 -0400] \"GET /shuttle/countdown/liftoff.html HTTP/1.0\" 304 0   \n",
       "4  199.120.110.21 - - [01/Jul/1995:00:00:11 -0400] \"GET /shuttle/missions/sts-73/sts-73-patch-small.gif HTTP/1.0\" 200 4179   \n",
       "\n",
       "                                                                                                                                split  \n",
       "0                                   [199.72.81.55, -, -, [01/Jul/1995:00:00:01, -0400], \"GET, /history/apollo/, HTTP/1.0\", 200, 6245]  \n",
       "1                        [unicomp6.unicomp.net, -, -, [01/Jul/1995:00:00:06, -0400], \"GET, /shuttle/countdown/, HTTP/1.0\", 200, 3985]  \n",
       "2     [199.120.110.21, -, -, [01/Jul/1995:00:00:09, -0400], \"GET, /shuttle/missions/sts-73/mission-sts-73.html, HTTP/1.0\", 200, 4085]  \n",
       "3                 [burger.letters.com, -, -, [01/Jul/1995:00:00:11, -0400], \"GET, /shuttle/countdown/liftoff.html, HTTP/1.0\", 304, 0]  \n",
       "4  [199.120.110.21, -, -, [01/Jul/1995:00:00:11, -0400], \"GET, /shuttle/missions/sts-73/sts-73-patch-small.gif, HTTP/1.0\", 200, 4179]  "
      ]
     },
     "execution_count": 143,
     "metadata": {},
     "output_type": "execute_result"
    }
   ],
   "source": [
    "from pyspark.sql.functions import split\n",
    "# Add split column that is an expression using split function on \"value\" column\n",
    "df_split = df_log.withColumn('split', split('value', ' '))\n",
    "df_split.limit(5).toPandas()"
   ]
  },
  {
   "cell_type": "markdown",
   "id": "416429d7",
   "metadata": {},
   "source": [
    "### Not a very good attempt, regular expressions are needed\n",
    "\n",
    "### Declare a UDF that will be applied to every line/row of the file. It will return a string with dict-like form"
   ]
  },
  {
   "cell_type": "code",
   "execution_count": 144,
   "id": "f4414358",
   "metadata": {},
   "outputs": [],
   "source": [
    "from pyspark.sql.functions import udf\n",
    "from pyspark.sql.types import MapType, StringType\n",
    "\n",
    "# Decorating a function with udf is the same as registering it.\n",
    "# We specify the return type in the udf argument. MapType(StringType(), StringType()) is a dictonary\n",
    "# with string key and string value\n",
    "@udf(MapType(StringType(),StringType()))\n",
    "def parse_log(line):\n",
    "    '''\n",
    "    Define a regular expression pattern and try to match it to each line.\n",
    "        - If pattern does not match return unchanged line. Could be anything except None so that parser can skip such line\n",
    "        - If column 9, which is inferred as file size, contains '-' then set it to 0, else return the integer\n",
    "        - Finally return a dictionary with proper column names\n",
    "    \n",
    "    '''\n",
    "    import re\n",
    "    PATTERN = '^(\\S+) (\\S+) (\\S+) \\[([\\w:/]+\\s[+\\-]\\d{4})\\] \"(\\S+) (\\S+)\\s*(\\S*)\" (\\d{3}) (\\S+)'\n",
    "    match = re.search(PATTERN, line)\n",
    "    \n",
    "    # Return unchanged line if match doesn't exists. Spark will skip such row\n",
    "    if match is None:\n",
    "        return line\n",
    "    \n",
    "    # Group/Column 9 is a file size column, it can be \"-\" sometimes, when that is cast it to 0\n",
    "    size_column = match.group(9)\n",
    "    if size_column == '-':\n",
    "        size = 0\n",
    "    else:\n",
    "        size = match.group(9)\n",
    "    \n",
    "    # Return a dict with keys as proper column names and values as contents of matched expressions\n",
    "    return {\n",
    "        \"host\"          : match.group(1), \n",
    "        \"client_identd\" : match.group(2), \n",
    "        \"user_id\"       : match.group(3), \n",
    "        \"date_time\"     : match.group(4), \n",
    "        \"method\"        : match.group(5),\n",
    "        \"endpoint\"      : match.group(6),\n",
    "        \"protocol\"      : match.group(7),\n",
    "        \"response_code\" : int(match.group(8)),\n",
    "        \"content_size\"  : size\n",
    "    }"
   ]
  },
  {
   "cell_type": "code",
   "execution_count": 145,
   "id": "560cfbc6",
   "metadata": {},
   "outputs": [],
   "source": [
    "# Apply parse_log udf to \"value\" column\n",
    "df_parsed = df_log.withColumn('parsed', parse_log('value'))"
   ]
  },
  {
   "cell_type": "code",
   "execution_count": 146,
   "id": "9496c462",
   "metadata": {},
   "outputs": [
    {
     "name": "stdout",
     "output_type": "stream",
     "text": [
      "root\n",
      " |-- value: string (nullable = true)\n",
      " |-- parsed: map (nullable = true)\n",
      " |    |-- key: string\n",
      " |    |-- value: string (valueContainsNull = true)\n",
      "\n"
     ]
    }
   ],
   "source": [
    "# We have a map object with key value pair in the parsed column\n",
    "df_parsed.printSchema()"
   ]
  },
  {
   "cell_type": "markdown",
   "id": "24df34c2",
   "metadata": {},
   "source": [
    "### Having a map/dict object with key-value pairs inside a column, we can use `selectExpr` function to `select key['value'] as column_name`"
   ]
  },
  {
   "cell_type": "code",
   "execution_count": 147,
   "id": "26bb2c18",
   "metadata": {},
   "outputs": [
    {
     "name": "stdout",
     "output_type": "stream",
     "text": [
      "+--------------------+------+\n",
      "|                host|method|\n",
      "+--------------------+------+\n",
      "|        199.72.81.55|   GET|\n",
      "|unicomp6.unicomp.net|   GET|\n",
      "|      199.120.110.21|   GET|\n",
      "|  burger.letters.com|   GET|\n",
      "|      199.120.110.21|   GET|\n",
      "+--------------------+------+\n",
      "only showing top 5 rows\n",
      "\n"
     ]
    }
   ],
   "source": [
    "df_parsed.selectExpr(\"parsed['host'] as host\", \"parsed['method'] as method\").show(5)"
   ]
  },
  {
   "cell_type": "markdown",
   "id": "12eaaba6",
   "metadata": {},
   "source": [
    "### Instead of typing every possible column to `selectExpr` we can use list comprehension and pass it as * arguments to the function"
   ]
  },
  {
   "cell_type": "code",
   "execution_count": 148,
   "id": "9580b9ae",
   "metadata": {},
   "outputs": [
    {
     "data": {
      "text/plain": [
       "[\"parsed['host'] as host\",\n",
       " \"parsed['client_identd'] as client_identd\",\n",
       " \"parsed['user_id'] as user_id\",\n",
       " \"parsed['date_time'] as date_time\",\n",
       " \"parsed['method'] as method\",\n",
       " \"parsed['endpoint'] as endpoint\",\n",
       " \"parsed['protocol'] as protocol\",\n",
       " \"parsed['response_code'] as response_code\",\n",
       " \"parsed['content_size'] as content_size\"]"
      ]
     },
     "execution_count": 148,
     "metadata": {},
     "output_type": "execute_result"
    }
   ],
   "source": [
    "columns = [\"host\", \"client_identd\",\"user_id\", \"date_time\", \"method\", \"endpoint\", \"protocol\", \"response_code\", \"content_size\"]\n",
    "exprs = [f\"parsed['{col}'] as {col}\" for col in columns]\n",
    "exprs"
   ]
  },
  {
   "cell_type": "code",
   "execution_count": 149,
   "id": "6cfc69be",
   "metadata": {
    "scrolled": false
   },
   "outputs": [
    {
     "data": {
      "text/html": [
       "<div>\n",
       "<style scoped>\n",
       "    .dataframe tbody tr th:only-of-type {\n",
       "        vertical-align: middle;\n",
       "    }\n",
       "\n",
       "    .dataframe tbody tr th {\n",
       "        vertical-align: top;\n",
       "    }\n",
       "\n",
       "    .dataframe thead th {\n",
       "        text-align: right;\n",
       "    }\n",
       "</style>\n",
       "<table border=\"1\" class=\"dataframe\">\n",
       "  <thead>\n",
       "    <tr style=\"text-align: right;\">\n",
       "      <th></th>\n",
       "      <th>host</th>\n",
       "      <th>client_identd</th>\n",
       "      <th>user_id</th>\n",
       "      <th>date_time</th>\n",
       "      <th>method</th>\n",
       "      <th>endpoint</th>\n",
       "      <th>protocol</th>\n",
       "      <th>response_code</th>\n",
       "      <th>content_size</th>\n",
       "    </tr>\n",
       "  </thead>\n",
       "  <tbody>\n",
       "    <tr>\n",
       "      <th>0</th>\n",
       "      <td>199.72.81.55</td>\n",
       "      <td>-</td>\n",
       "      <td>-</td>\n",
       "      <td>01/Jul/1995:00:00:01 -0400</td>\n",
       "      <td>GET</td>\n",
       "      <td>/history/apollo/</td>\n",
       "      <td>HTTP/1.0</td>\n",
       "      <td>200</td>\n",
       "      <td>6245</td>\n",
       "    </tr>\n",
       "    <tr>\n",
       "      <th>1</th>\n",
       "      <td>unicomp6.unicomp.net</td>\n",
       "      <td>-</td>\n",
       "      <td>-</td>\n",
       "      <td>01/Jul/1995:00:00:06 -0400</td>\n",
       "      <td>GET</td>\n",
       "      <td>/shuttle/countdown/</td>\n",
       "      <td>HTTP/1.0</td>\n",
       "      <td>200</td>\n",
       "      <td>3985</td>\n",
       "    </tr>\n",
       "    <tr>\n",
       "      <th>2</th>\n",
       "      <td>199.120.110.21</td>\n",
       "      <td>-</td>\n",
       "      <td>-</td>\n",
       "      <td>01/Jul/1995:00:00:09 -0400</td>\n",
       "      <td>GET</td>\n",
       "      <td>/shuttle/missions/sts-73/mission-sts-73.html</td>\n",
       "      <td>HTTP/1.0</td>\n",
       "      <td>200</td>\n",
       "      <td>4085</td>\n",
       "    </tr>\n",
       "    <tr>\n",
       "      <th>3</th>\n",
       "      <td>burger.letters.com</td>\n",
       "      <td>-</td>\n",
       "      <td>-</td>\n",
       "      <td>01/Jul/1995:00:00:11 -0400</td>\n",
       "      <td>GET</td>\n",
       "      <td>/shuttle/countdown/liftoff.html</td>\n",
       "      <td>HTTP/1.0</td>\n",
       "      <td>304</td>\n",
       "      <td>0</td>\n",
       "    </tr>\n",
       "    <tr>\n",
       "      <th>4</th>\n",
       "      <td>199.120.110.21</td>\n",
       "      <td>-</td>\n",
       "      <td>-</td>\n",
       "      <td>01/Jul/1995:00:00:11 -0400</td>\n",
       "      <td>GET</td>\n",
       "      <td>/shuttle/missions/sts-73/sts-73-patch-small.gif</td>\n",
       "      <td>HTTP/1.0</td>\n",
       "      <td>200</td>\n",
       "      <td>4179</td>\n",
       "    </tr>\n",
       "  </tbody>\n",
       "</table>\n",
       "</div>"
      ],
      "text/plain": [
       "                   host client_identd user_id                   date_time  \\\n",
       "0          199.72.81.55             -       -  01/Jul/1995:00:00:01 -0400   \n",
       "1  unicomp6.unicomp.net             -       -  01/Jul/1995:00:00:06 -0400   \n",
       "2        199.120.110.21             -       -  01/Jul/1995:00:00:09 -0400   \n",
       "3    burger.letters.com             -       -  01/Jul/1995:00:00:11 -0400   \n",
       "4        199.120.110.21             -       -  01/Jul/1995:00:00:11 -0400   \n",
       "\n",
       "  method                                         endpoint  protocol  \\\n",
       "0    GET                                 /history/apollo/  HTTP/1.0   \n",
       "1    GET                              /shuttle/countdown/  HTTP/1.0   \n",
       "2    GET     /shuttle/missions/sts-73/mission-sts-73.html  HTTP/1.0   \n",
       "3    GET                  /shuttle/countdown/liftoff.html  HTTP/1.0   \n",
       "4    GET  /shuttle/missions/sts-73/sts-73-patch-small.gif  HTTP/1.0   \n",
       "\n",
       "  response_code content_size  \n",
       "0           200         6245  \n",
       "1           200         3985  \n",
       "2           200         4085  \n",
       "3           304            0  \n",
       "4           200         4179  "
      ]
     },
     "execution_count": 149,
     "metadata": {},
     "output_type": "execute_result"
    }
   ],
   "source": [
    "# Unpack exprs as arguments to selectExpr\n",
    "df_clean = df_parsed.selectExpr(*exprs)\n",
    "df_clean.limit(5).toPandas()"
   ]
  },
  {
   "cell_type": "markdown",
   "id": "98b7814c",
   "metadata": {},
   "source": [
    "### Convert columns to proper data types"
   ]
  },
  {
   "cell_type": "code",
   "execution_count": 150,
   "id": "b1992f9c",
   "metadata": {
    "scrolled": true
   },
   "outputs": [
    {
     "name": "stderr",
     "output_type": "stream",
     "text": [
      "/home/ubuntu/anaconda3/lib/python3.10/site-packages/pyspark/sql/pandas/conversion.py:194: FutureWarning: Passing unit-less datetime64 dtype to .astype is deprecated and will raise in a future version. Pass 'datetime64[ns]' instead\n",
      "  series = series.astype(t, copy=False)\n"
     ]
    },
    {
     "data": {
      "text/html": [
       "<div>\n",
       "<style scoped>\n",
       "    .dataframe tbody tr th:only-of-type {\n",
       "        vertical-align: middle;\n",
       "    }\n",
       "\n",
       "    .dataframe tbody tr th {\n",
       "        vertical-align: top;\n",
       "    }\n",
       "\n",
       "    .dataframe thead th {\n",
       "        text-align: right;\n",
       "    }\n",
       "</style>\n",
       "<table border=\"1\" class=\"dataframe\">\n",
       "  <thead>\n",
       "    <tr style=\"text-align: right;\">\n",
       "      <th></th>\n",
       "      <th>host</th>\n",
       "      <th>client_identd</th>\n",
       "      <th>user_id</th>\n",
       "      <th>date_time</th>\n",
       "      <th>method</th>\n",
       "      <th>endpoint</th>\n",
       "      <th>protocol</th>\n",
       "      <th>response_code</th>\n",
       "      <th>content_size</th>\n",
       "      <th>date_time_ltz</th>\n",
       "    </tr>\n",
       "  </thead>\n",
       "  <tbody>\n",
       "    <tr>\n",
       "      <th>0</th>\n",
       "      <td>199.72.81.55</td>\n",
       "      <td>-</td>\n",
       "      <td>-</td>\n",
       "      <td>1995-07-01 00:00:01-0400</td>\n",
       "      <td>GET</td>\n",
       "      <td>/history/apollo/</td>\n",
       "      <td>HTTP/1.0</td>\n",
       "      <td>200</td>\n",
       "      <td>6245</td>\n",
       "      <td>1995-07-01 04:00:01</td>\n",
       "    </tr>\n",
       "    <tr>\n",
       "      <th>1</th>\n",
       "      <td>unicomp6.unicomp.net</td>\n",
       "      <td>-</td>\n",
       "      <td>-</td>\n",
       "      <td>1995-07-01 00:00:06-0400</td>\n",
       "      <td>GET</td>\n",
       "      <td>/shuttle/countdown/</td>\n",
       "      <td>HTTP/1.0</td>\n",
       "      <td>200</td>\n",
       "      <td>3985</td>\n",
       "      <td>1995-07-01 04:00:06</td>\n",
       "    </tr>\n",
       "    <tr>\n",
       "      <th>2</th>\n",
       "      <td>199.120.110.21</td>\n",
       "      <td>-</td>\n",
       "      <td>-</td>\n",
       "      <td>1995-07-01 00:00:09-0400</td>\n",
       "      <td>GET</td>\n",
       "      <td>/shuttle/missions/sts-73/mission-sts-73.html</td>\n",
       "      <td>HTTP/1.0</td>\n",
       "      <td>200</td>\n",
       "      <td>4085</td>\n",
       "      <td>1995-07-01 04:00:09</td>\n",
       "    </tr>\n",
       "    <tr>\n",
       "      <th>3</th>\n",
       "      <td>burger.letters.com</td>\n",
       "      <td>-</td>\n",
       "      <td>-</td>\n",
       "      <td>1995-07-01 00:00:11-0400</td>\n",
       "      <td>GET</td>\n",
       "      <td>/shuttle/countdown/liftoff.html</td>\n",
       "      <td>HTTP/1.0</td>\n",
       "      <td>304</td>\n",
       "      <td>0</td>\n",
       "      <td>1995-07-01 04:00:11</td>\n",
       "    </tr>\n",
       "    <tr>\n",
       "      <th>4</th>\n",
       "      <td>199.120.110.21</td>\n",
       "      <td>-</td>\n",
       "      <td>-</td>\n",
       "      <td>1995-07-01 00:00:11-0400</td>\n",
       "      <td>GET</td>\n",
       "      <td>/shuttle/missions/sts-73/sts-73-patch-small.gif</td>\n",
       "      <td>HTTP/1.0</td>\n",
       "      <td>200</td>\n",
       "      <td>4179</td>\n",
       "      <td>1995-07-01 04:00:11</td>\n",
       "    </tr>\n",
       "  </tbody>\n",
       "</table>\n",
       "</div>"
      ],
      "text/plain": [
       "                   host client_identd user_id                 date_time  \\\n",
       "0          199.72.81.55             -       -  1995-07-01 00:00:01-0400   \n",
       "1  unicomp6.unicomp.net             -       -  1995-07-01 00:00:06-0400   \n",
       "2        199.120.110.21             -       -  1995-07-01 00:00:09-0400   \n",
       "3    burger.letters.com             -       -  1995-07-01 00:00:11-0400   \n",
       "4        199.120.110.21             -       -  1995-07-01 00:00:11-0400   \n",
       "\n",
       "  method                                         endpoint  protocol  \\\n",
       "0    GET                                 /history/apollo/  HTTP/1.0   \n",
       "1    GET                              /shuttle/countdown/  HTTP/1.0   \n",
       "2    GET     /shuttle/missions/sts-73/mission-sts-73.html  HTTP/1.0   \n",
       "3    GET                  /shuttle/countdown/liftoff.html  HTTP/1.0   \n",
       "4    GET  /shuttle/missions/sts-73/sts-73-patch-small.gif  HTTP/1.0   \n",
       "\n",
       "  response_code content_size       date_time_ltz  \n",
       "0           200         6245 1995-07-01 04:00:01  \n",
       "1           200         3985 1995-07-01 04:00:06  \n",
       "2           200         4085 1995-07-01 04:00:09  \n",
       "3           304            0 1995-07-01 04:00:11  \n",
       "4           200         4179 1995-07-01 04:00:11  "
      ]
     },
     "execution_count": 150,
     "metadata": {},
     "output_type": "execute_result"
    }
   ],
   "source": [
    "from pyspark.sql.functions import unix_timestamp, from_unixtime\n",
    "\n",
    "#Since time string has -0400 offset, we need to set a proper session timezone\n",
    "spark.conf.set(\"spark.sql.session.timeZone\", \"-04:00\")\n",
    "\n",
    "# Convert to unix timestamp first\n",
    "df_clean = df_clean \\\n",
    "    .withColumn('date_time', unix_timestamp(df_clean['date_time'], \"dd/MMM/yyyy':'HH:mm:ss Z\"))\n",
    "\n",
    "# From unix convert to string timestamp with an offset \"Z\" \n",
    "df_clean = df_clean \\\n",
    "    .withColumn('date_time', from_unixtime(df_clean['date_time'], \"yyy-MM-dd HH:mm:ssZ\"))\n",
    "\n",
    "# Convert to regular timestamp format in UTC\n",
    "df_clean = df_clean \\\n",
    "    .withColumn('date_time_ltz', to_timestamp('date_time', \"yyy-MM-dd HH:mm:ssZ\"))\n",
    "\n",
    "# Unset the timezone\n",
    "spark.conf.unset(\"spark.sql.session.timeZone\")\n",
    "                \n",
    "df_clean.limit(5).toPandas()"
   ]
  },
  {
   "cell_type": "markdown",
   "id": "e2170f2d",
   "metadata": {},
   "source": [
    "### Convert columns to integers"
   ]
  },
  {
   "cell_type": "code",
   "execution_count": 152,
   "id": "f0507628",
   "metadata": {},
   "outputs": [
    {
     "name": "stderr",
     "output_type": "stream",
     "text": [
      "/home/ubuntu/anaconda3/lib/python3.10/site-packages/pyspark/sql/pandas/conversion.py:194: FutureWarning: Passing unit-less datetime64 dtype to .astype is deprecated and will raise in a future version. Pass 'datetime64[ns]' instead\n",
      "  series = series.astype(t, copy=False)\n"
     ]
    },
    {
     "data": {
      "text/html": [
       "<div>\n",
       "<style scoped>\n",
       "    .dataframe tbody tr th:only-of-type {\n",
       "        vertical-align: middle;\n",
       "    }\n",
       "\n",
       "    .dataframe tbody tr th {\n",
       "        vertical-align: top;\n",
       "    }\n",
       "\n",
       "    .dataframe thead th {\n",
       "        text-align: right;\n",
       "    }\n",
       "</style>\n",
       "<table border=\"1\" class=\"dataframe\">\n",
       "  <thead>\n",
       "    <tr style=\"text-align: right;\">\n",
       "      <th></th>\n",
       "      <th>host</th>\n",
       "      <th>client_identd</th>\n",
       "      <th>user_id</th>\n",
       "      <th>date_time</th>\n",
       "      <th>method</th>\n",
       "      <th>endpoint</th>\n",
       "      <th>protocol</th>\n",
       "      <th>response_code</th>\n",
       "      <th>content_size</th>\n",
       "      <th>date_time_ltz</th>\n",
       "    </tr>\n",
       "  </thead>\n",
       "  <tbody>\n",
       "    <tr>\n",
       "      <th>0</th>\n",
       "      <td>199.72.81.55</td>\n",
       "      <td>-</td>\n",
       "      <td>-</td>\n",
       "      <td>1995-07-01 00:00:01-0400</td>\n",
       "      <td>GET</td>\n",
       "      <td>/history/apollo/</td>\n",
       "      <td>HTTP/1.0</td>\n",
       "      <td>200</td>\n",
       "      <td>6245</td>\n",
       "      <td>1995-07-01 04:00:01</td>\n",
       "    </tr>\n",
       "    <tr>\n",
       "      <th>1</th>\n",
       "      <td>unicomp6.unicomp.net</td>\n",
       "      <td>-</td>\n",
       "      <td>-</td>\n",
       "      <td>1995-07-01 00:00:06-0400</td>\n",
       "      <td>GET</td>\n",
       "      <td>/shuttle/countdown/</td>\n",
       "      <td>HTTP/1.0</td>\n",
       "      <td>200</td>\n",
       "      <td>3985</td>\n",
       "      <td>1995-07-01 04:00:06</td>\n",
       "    </tr>\n",
       "    <tr>\n",
       "      <th>2</th>\n",
       "      <td>199.120.110.21</td>\n",
       "      <td>-</td>\n",
       "      <td>-</td>\n",
       "      <td>1995-07-01 00:00:09-0400</td>\n",
       "      <td>GET</td>\n",
       "      <td>/shuttle/missions/sts-73/mission-sts-73.html</td>\n",
       "      <td>HTTP/1.0</td>\n",
       "      <td>200</td>\n",
       "      <td>4085</td>\n",
       "      <td>1995-07-01 04:00:09</td>\n",
       "    </tr>\n",
       "    <tr>\n",
       "      <th>3</th>\n",
       "      <td>burger.letters.com</td>\n",
       "      <td>-</td>\n",
       "      <td>-</td>\n",
       "      <td>1995-07-01 00:00:11-0400</td>\n",
       "      <td>GET</td>\n",
       "      <td>/shuttle/countdown/liftoff.html</td>\n",
       "      <td>HTTP/1.0</td>\n",
       "      <td>304</td>\n",
       "      <td>0</td>\n",
       "      <td>1995-07-01 04:00:11</td>\n",
       "    </tr>\n",
       "    <tr>\n",
       "      <th>4</th>\n",
       "      <td>199.120.110.21</td>\n",
       "      <td>-</td>\n",
       "      <td>-</td>\n",
       "      <td>1995-07-01 00:00:11-0400</td>\n",
       "      <td>GET</td>\n",
       "      <td>/shuttle/missions/sts-73/sts-73-patch-small.gif</td>\n",
       "      <td>HTTP/1.0</td>\n",
       "      <td>200</td>\n",
       "      <td>4179</td>\n",
       "      <td>1995-07-01 04:00:11</td>\n",
       "    </tr>\n",
       "  </tbody>\n",
       "</table>\n",
       "</div>"
      ],
      "text/plain": [
       "                   host client_identd user_id                 date_time  \\\n",
       "0          199.72.81.55             -       -  1995-07-01 00:00:01-0400   \n",
       "1  unicomp6.unicomp.net             -       -  1995-07-01 00:00:06-0400   \n",
       "2        199.120.110.21             -       -  1995-07-01 00:00:09-0400   \n",
       "3    burger.letters.com             -       -  1995-07-01 00:00:11-0400   \n",
       "4        199.120.110.21             -       -  1995-07-01 00:00:11-0400   \n",
       "\n",
       "  method                                         endpoint  protocol  \\\n",
       "0    GET                                 /history/apollo/  HTTP/1.0   \n",
       "1    GET                              /shuttle/countdown/  HTTP/1.0   \n",
       "2    GET     /shuttle/missions/sts-73/mission-sts-73.html  HTTP/1.0   \n",
       "3    GET                  /shuttle/countdown/liftoff.html  HTTP/1.0   \n",
       "4    GET  /shuttle/missions/sts-73/sts-73-patch-small.gif  HTTP/1.0   \n",
       "\n",
       "  response_code  content_size       date_time_ltz  \n",
       "0           200          6245 1995-07-01 04:00:01  \n",
       "1           200          3985 1995-07-01 04:00:06  \n",
       "2           200          4085 1995-07-01 04:00:09  \n",
       "3           304             0 1995-07-01 04:00:11  \n",
       "4           200          4179 1995-07-01 04:00:11  "
      ]
     },
     "execution_count": 152,
     "metadata": {},
     "output_type": "execute_result"
    }
   ],
   "source": [
    "df_clean = df_clean \\\n",
    "    .withColumn('content_size', df_clean['content_size'].cast('int'))\n",
    "\n",
    "df_clean.limit(5).toPandas()"
   ]
  },
  {
   "cell_type": "code",
   "execution_count": 153,
   "id": "9003dec3",
   "metadata": {},
   "outputs": [
    {
     "name": "stdout",
     "output_type": "stream",
     "text": [
      "root\n",
      " |-- host: string (nullable = true)\n",
      " |-- client_identd: string (nullable = true)\n",
      " |-- user_id: string (nullable = true)\n",
      " |-- date_time: string (nullable = true)\n",
      " |-- method: string (nullable = true)\n",
      " |-- endpoint: string (nullable = true)\n",
      " |-- protocol: string (nullable = true)\n",
      " |-- response_code: string (nullable = true)\n",
      " |-- content_size: integer (nullable = true)\n",
      " |-- date_time_ltz: timestamp (nullable = true)\n",
      "\n"
     ]
    }
   ],
   "source": [
    "df_clean.printSchema()"
   ]
  }
 ],
 "metadata": {
  "kernelspec": {
   "display_name": "Python [conda env:root] *",
   "language": "python",
   "name": "conda-root-py"
  },
  "language_info": {
   "codemirror_mode": {
    "name": "ipython",
    "version": 3
   },
   "file_extension": ".py",
   "mimetype": "text/x-python",
   "name": "python",
   "nbconvert_exporter": "python",
   "pygments_lexer": "ipython3",
   "version": "3.10.9"
  }
 },
 "nbformat": 4,
 "nbformat_minor": 5
}
