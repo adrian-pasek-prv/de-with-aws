{
 "cells": [
  {
   "cell_type": "code",
   "execution_count": 2,
   "id": "b363469f",
   "metadata": {
    "collapsed": true
   },
   "outputs": [
    {
     "name": "stderr",
     "output_type": "stream",
     "text": [
      "WARNING: An illegal reflective access operation has occurred\n",
      "WARNING: Illegal reflective access by org.apache.spark.unsafe.Platform (file:/home/ubuntu/anaconda3/lib/python3.10/site-packages/pyspark/jars/spark-unsafe_2.12-3.2.1.jar) to constructor java.nio.DirectByteBuffer(long,int)\n",
      "WARNING: Please consider reporting this to the maintainers of org.apache.spark.unsafe.Platform\n",
      "WARNING: Use --illegal-access=warn to enable warnings of further illegal reflective access operations\n",
      "WARNING: All illegal access operations will be denied in a future release\n",
      "Using Spark's default log4j profile: org/apache/spark/log4j-defaults.properties\n",
      "Setting default log level to \"WARN\".\n",
      "To adjust logging level use sc.setLogLevel(newLevel). For SparkR, use setLogLevel(newLevel).\n",
      "23/06/30 05:03:59 WARN NativeCodeLoader: Unable to load native-hadoop library for your platform... using builtin-java classes where applicable\n"
     ]
    }
   ],
   "source": [
    "import findspark\n",
    "findspark.init()\n",
    "\n",
    "import pyspark\n",
    "sc = pyspark.SparkContext(appName=\"maps_and_lazy_evaluation_example\")"
   ]
  },
  {
   "cell_type": "code",
   "execution_count": 3,
   "id": "dc12b1fa",
   "metadata": {},
   "outputs": [],
   "source": [
    "# Example dataset\n",
    "log_of_songs = [\n",
    "    'Despacito',\n",
    "    'Nice for what',\n",
    "    'No tears left to cry',\n",
    "    'Despacito',\n",
    "    'Havana',\n",
    "    'In my feelings',\n",
    "    'Nice for what',\n",
    "    'despacito',\n",
    "    'All the stars'\n",
    "]"
   ]
  },
  {
   "cell_type": "code",
   "execution_count": 4,
   "id": "a07668c8",
   "metadata": {},
   "outputs": [],
   "source": [
    "# parallelize method takes the Python object and distributes it across the nodes in the cluster\n",
    "distributed_song_log = sc.parallelize(log_of_songs)"
   ]
  },
  {
   "cell_type": "code",
   "execution_count": 5,
   "id": "7bd2a8fd",
   "metadata": {},
   "outputs": [
    {
     "data": {
      "text/plain": [
       "PythonRDD[1] at RDD at PythonRDD.scala:53"
      ]
     },
     "execution_count": 5,
     "metadata": {},
     "output_type": "execute_result"
    }
   ],
   "source": [
    "# We mapping a function that casts a string to lowercase, we can you predefined function or lambda\n",
    "# Execution is fast because Spark doesn't do anything with the data yet - it procrastinates (lazy evaluation)\n",
    "# until the last moment since you might have several other processing steps like removing punctuation\n",
    "# Spark wants to wait until the last minute to see if they can streamline its work, and combine these into a single stage.\n",
    "\n",
    "def convert_song_to_lowercase(song):\n",
    "    return song.lower()\n",
    "\n",
    "distributed_song_log.map(convert_song_to_lowercase)\n",
    "\n",
    "# or\n",
    "\n",
    "distributed_song_log.map(lambda song: song.lower())"
   ]
  },
  {
   "cell_type": "code",
   "execution_count": 8,
   "id": "1ede3110",
   "metadata": {},
   "outputs": [
    {
     "name": "stderr",
     "output_type": "stream",
     "text": [
      "                                                                                \r"
     ]
    },
    {
     "data": {
      "text/plain": [
       "['despacito',\n",
       " 'nice for what',\n",
       " 'no tears left to cry',\n",
       " 'despacito',\n",
       " 'havana',\n",
       " 'in my feelings',\n",
       " 'nice for what',\n",
       " 'despacito',\n",
       " 'all the stars']"
      ]
     },
     "execution_count": 8,
     "metadata": {},
     "output_type": "execute_result"
    }
   ],
   "source": [
    "# In order for Spark to transform the data we need to also call collect method on mapped object\n",
    "# Collect method gathers the results from all of the machines in our cluster back to the machine running this notebook.\n",
    "distributed_song_log.map(lambda song: song.lower()).collect()"
   ]
  }
 ],
 "metadata": {
  "kernelspec": {
   "display_name": "Python [conda env:root] *",
   "language": "python",
   "name": "conda-root-py"
  },
  "language_info": {
   "codemirror_mode": {
    "name": "ipython",
    "version": 3
   },
   "file_extension": ".py",
   "mimetype": "text/x-python",
   "name": "python",
   "nbconvert_exporter": "python",
   "pygments_lexer": "ipython3",
   "version": "3.10.9"
  }
 },
 "nbformat": 4,
 "nbformat_minor": 5
}
