{
 "cells": [
  {
   "cell_type": "code",
   "execution_count": 1,
   "id": "20b4e76b",
   "metadata": {},
   "outputs": [],
   "source": [
    "from cassandra.cluster import Cluster"
   ]
  },
  {
   "cell_type": "code",
   "execution_count": 2,
   "id": "afbebdcb",
   "metadata": {},
   "outputs": [],
   "source": [
    "cluster = Cluster(contact_points=['127.0.0.1'])\n",
    "session = cluster.connect()"
   ]
  },
  {
   "cell_type": "code",
   "execution_count": 3,
   "id": "b879327a",
   "metadata": {},
   "outputs": [
    {
     "ename": "InvalidRequest",
     "evalue": "Error from server: code=2200 [Invalid query] message=\"No keyspace has been specified. USE a keyspace, or explicitly specify keyspace.tablename\"",
     "output_type": "error",
     "traceback": [
      "\u001b[0;31m---------------------------------------------------------------------------\u001b[0m",
      "\u001b[0;31mInvalidRequest\u001b[0m                            Traceback (most recent call last)",
      "Cell \u001b[0;32mIn[3], line 1\u001b[0m\n\u001b[0;32m----> 1\u001b[0m \u001b[43msession\u001b[49m\u001b[38;5;241;43m.\u001b[39;49m\u001b[43mexecute\u001b[49m\u001b[43m(\u001b[49m\u001b[38;5;124;43m'\u001b[39;49m\u001b[38;5;124;43mSELECT * FROM music_library\u001b[39;49m\u001b[38;5;124;43m'\u001b[39;49m\u001b[43m)\u001b[49m\n",
      "File \u001b[0;32m~/anaconda3/lib/python3.10/site-packages/cassandra/cluster.py:2618\u001b[0m, in \u001b[0;36mcassandra.cluster.Session.execute\u001b[0;34m()\u001b[0m\n",
      "File \u001b[0;32m~/anaconda3/lib/python3.10/site-packages/cassandra/cluster.py:4894\u001b[0m, in \u001b[0;36mcassandra.cluster.ResponseFuture.result\u001b[0;34m()\u001b[0m\n",
      "\u001b[0;31mInvalidRequest\u001b[0m: Error from server: code=2200 [Invalid query] message=\"No keyspace has been specified. USE a keyspace, or explicitly specify keyspace.tablename\""
     ]
    }
   ],
   "source": [
    "session.execute('SELECT * FROM music_library')"
   ]
  },
  {
   "cell_type": "code",
   "execution_count": 5,
   "id": "fb191902",
   "metadata": {},
   "outputs": [
    {
     "data": {
      "text/plain": [
       "<cassandra.cluster.ResultSet at 0x7efeec37eb90>"
      ]
     },
     "execution_count": 5,
     "metadata": {},
     "output_type": "execute_result"
    }
   ],
   "source": [
    "# Create a keyspace - schema in terms of RDBMS\n",
    "# Replication means copying the data across nodes, but we are using one node so\n",
    "# replication_factor = 1\n",
    "session.execute('''\n",
    "    CREATE KEYSPACE IF NOT EXISTS udacity\n",
    "    WITH REPLICATION = {\n",
    "    'class': 'SimpleStrategy',\n",
    "    'replication_factor': 1\n",
    "    }\n",
    "''')"
   ]
  },
  {
   "cell_type": "code",
   "execution_count": 6,
   "id": "1a3cbb7e",
   "metadata": {},
   "outputs": [],
   "source": [
    "# Connect to keyspace\n",
    "session.set_keyspace('udacity')"
   ]
  },
  {
   "cell_type": "code",
   "execution_count": 7,
   "id": "a46bf28b",
   "metadata": {},
   "outputs": [
    {
     "data": {
      "text/plain": [
       "<cassandra.cluster.ResultSet at 0x7efeec3071c0>"
      ]
     },
     "execution_count": 7,
     "metadata": {},
     "output_type": "execute_result"
    }
   ],
   "source": [
    "# Create a table with (year, artist_name) as primary key\n",
    "session.execute('''\n",
    "    CREATE TABLE IF NOT EXISTS music_library\n",
    "    (year int, artist_name text, album_name text, PRIMARY KEY (year, artist_name))\n",
    "    ''')"
   ]
  },
  {
   "cell_type": "code",
   "execution_count": 10,
   "id": "e1a628d1",
   "metadata": {},
   "outputs": [
    {
     "name": "stdout",
     "output_type": "stream",
     "text": [
      "Row(count=0)\n"
     ]
    }
   ],
   "source": [
    "# Check if table exists by select count(*)\n",
    "# NOTE! Normally we wouldn't do this if we have large data across many nodes\n",
    "# Cassandra is not for that\n",
    "count = session.execute('''\n",
    "    SELECT COUNT(*) from music_library\n",
    "    ''')\n",
    "print(count.one())"
   ]
  },
  {
   "cell_type": "code",
   "execution_count": 11,
   "id": "2fb9d5da",
   "metadata": {},
   "outputs": [
    {
     "data": {
      "text/plain": [
       "<cassandra.cluster.ResultSet at 0x7efedaaa0190>"
      ]
     },
     "execution_count": 11,
     "metadata": {},
     "output_type": "execute_result"
    }
   ],
   "source": [
    "# Insert some values into a table\n",
    "# Cassandra does not allow duplicates on PRIMARY_KEY, so running this statement again and again\n",
    "# will not result in duplicates\n",
    "query = '''\n",
    "    INSERT INTO music_library (year, artist_name, album_name)\n",
    "    VALUES (%s, %s, %s)\n",
    "'''\n",
    "session.execute(query, parameters=(1970, 'The Beatles', 'Let It Be'))\n",
    "session.execute(query, parameters=(1965, 'The Beatles', 'Rubber Soul'))"
   ]
  },
  {
   "cell_type": "code",
   "execution_count": 12,
   "id": "f1245c8d",
   "metadata": {},
   "outputs": [
    {
     "name": "stdout",
     "output_type": "stream",
     "text": [
      "1970 Let It Be The Beatles\n"
     ]
    }
   ],
   "source": [
    "# Select rows with year = 1970\n",
    "query = 'select * from music_library where year = 1970'\n",
    "rows = session.execute(query)\n",
    "for row in rows:\n",
    "    print (row.year, row.album_name, row.artist_name)"
   ]
  },
  {
   "cell_type": "code",
   "execution_count": 13,
   "id": "70c16d9c",
   "metadata": {},
   "outputs": [],
   "source": [
    "# Drop the table and close connection\n",
    "query = 'drop table music_library'\n",
    "session.execute(query)\n",
    "session.shutdown()\n",
    "cluster.shutdown()"
   ]
  }
 ],
 "metadata": {
  "kernelspec": {
   "display_name": "Python [conda env:root] *",
   "language": "python",
   "name": "conda-root-py"
  },
  "language_info": {
   "codemirror_mode": {
    "name": "ipython",
    "version": 3
   },
   "file_extension": ".py",
   "mimetype": "text/x-python",
   "name": "python",
   "nbconvert_exporter": "python",
   "pygments_lexer": "ipython3",
   "version": "3.10.9"
  }
 },
 "nbformat": 4,
 "nbformat_minor": 5
}
