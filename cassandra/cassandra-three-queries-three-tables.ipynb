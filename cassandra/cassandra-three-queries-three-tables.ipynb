{
 "cells": [
  {
   "cell_type": "code",
   "execution_count": 1,
   "id": "b3844755",
   "metadata": {},
   "outputs": [],
   "source": [
    "import cassandra"
   ]
  },
  {
   "cell_type": "code",
   "execution_count": 2,
   "id": "13eaa849",
   "metadata": {},
   "outputs": [],
   "source": [
    "# Setup a connection to Cassandra cluster\n",
    "from cassandra.cluster import Cluster\n",
    "cluster = Cluster(['127.0.0.1']) #If you have a locally installed Apache Cassandra instance\n",
    "session = cluster.connect()"
   ]
  },
  {
   "cell_type": "code",
   "execution_count": 3,
   "id": "c3d63def",
   "metadata": {},
   "outputs": [
    {
     "data": {
      "text/plain": [
       "<cassandra.cluster.ResultSet at 0x7f5208d27d30>"
      ]
     },
     "execution_count": 3,
     "metadata": {},
     "output_type": "execute_result"
    }
   ],
   "source": [
    "# Create a keyspace (table schema)\n",
    "session.execute(\"\"\"\n",
    "    CREATE KEYSPACE IF NOT EXISTS udacity \n",
    "    WITH REPLICATION = \n",
    "    { 'class' : 'SimpleStrategy', 'replication_factor' : 1 }\"\"\"\n",
    ")"
   ]
  },
  {
   "cell_type": "code",
   "execution_count": 4,
   "id": "5fd92d93",
   "metadata": {},
   "outputs": [],
   "source": [
    " # Connect to keypace\n",
    "session.set_keyspace('udacity')"
   ]
  },
  {
   "cell_type": "code",
   "execution_count": 5,
   "id": "1427e8c0",
   "metadata": {},
   "outputs": [
    {
     "data": {
      "text/plain": [
       "<cassandra.cluster.ResultSet at 0x7f51dc175f30>"
      ]
     },
     "execution_count": 5,
     "metadata": {},
     "output_type": "execute_result"
    }
   ],
   "source": [
    "# 1st Query\n",
    "# Give every album in the music_library that was released in a given year\n",
    "create_stmt = '''\n",
    "    CREATE TABLE IF NOT EXISTS music_library\n",
    "    (year int, artist_name text, album_name text, PRIMARY KEY (year, album_name));\n",
    "'''\n",
    "session.execute(create_stmt)"
   ]
  },
  {
   "cell_type": "code",
   "execution_count": 6,
   "id": "718e52da",
   "metadata": {},
   "outputs": [
    {
     "data": {
      "text/plain": [
       "<cassandra.cluster.ResultSet at 0x7f51dc1758a0>"
      ]
     },
     "execution_count": 6,
     "metadata": {},
     "output_type": "execute_result"
    }
   ],
   "source": [
    "# Insert some values\n",
    "insert_stmt = '''\n",
    "    INSERT INTO music_library (year, artist_name, album_name)\n",
    "    VALUES (%s, %s, %s)\n",
    "'''\n",
    "session.execute(insert_stmt, (1970, \"The Beatles\", \"Let it Be\"))\n",
    "session.execute(insert_stmt, (1965, \"The Beatles\", \"Rubber Soul\"))\n",
    "session.execute(insert_stmt, (1965, \"The Who\", \"My Generation\"))\n",
    "session.execute(insert_stmt, (1966, \"The Monkees\", \"The Monkees\"))\n",
    "session.execute(insert_stmt, (1970, \"The Carpenters\", \"Close To You\"))"
   ]
  },
  {
   "cell_type": "code",
   "execution_count": 7,
   "id": "5c84b0ef",
   "metadata": {},
   "outputs": [
    {
     "data": {
      "text/plain": [
       "<cassandra.cluster.ResultSet at 0x7f51dc176fe0>"
      ]
     },
     "execution_count": 7,
     "metadata": {},
     "output_type": "execute_result"
    }
   ],
   "source": [
    "# 2nd Query\n",
    "# Give every album in the music library that was created by a given artist\n",
    "create_stmt = '''\n",
    "    CREATE TABLE IF NOT EXISTS artist_library\n",
    "    (artist_name text, year int, album_name text, PRIMARY KEY (artist_name, album_name));\n",
    "'''\n",
    "session.execute(create_stmt)"
   ]
  },
  {
   "cell_type": "code",
   "execution_count": 8,
   "id": "841b9a04",
   "metadata": {},
   "outputs": [
    {
     "data": {
      "text/plain": [
       "<cassandra.cluster.ResultSet at 0x7f51dc176380>"
      ]
     },
     "execution_count": 8,
     "metadata": {},
     "output_type": "execute_result"
    }
   ],
   "source": [
    "# Insert some values\n",
    "insert_stmt = '''\n",
    "    INSERT INTO artist_library (artist_name, year, album_name)\n",
    "    VALUES (%s, %s, %s)\n",
    "'''\n",
    "session.execute(insert_stmt, (\"The Beatles\", 1970, \"Let it Be\"))\n",
    "session.execute(insert_stmt, (\"The Beatles\", 1965, \"Rubber Soul\"))\n",
    "session.execute(insert_stmt, (\"The Who\", 1965, \"My Generation\"))\n",
    "session.execute(insert_stmt, (\"The Monkees\", 1966, \"The Monkees\"))\n",
    "session.execute(insert_stmt, (\"The Carpenters\", 1970, \"Close To You\"))"
   ]
  },
  {
   "cell_type": "code",
   "execution_count": 9,
   "id": "0a90fdca",
   "metadata": {},
   "outputs": [
    {
     "data": {
      "text/plain": [
       "<cassandra.cluster.ResultSet at 0x7f51dc1749d0>"
      ]
     },
     "execution_count": 9,
     "metadata": {},
     "output_type": "execute_result"
    }
   ],
   "source": [
    "# 3rd Query\n",
    "# Give all the information from the music library about a given album\n",
    "create_stmt = '''\n",
    "    CREATE TABLE IF NOT EXISTS album_library\n",
    "    (album_name text, artist_name text, year int, PRIMARY KEY (album_name, artist_name));\n",
    "'''\n",
    "session.execute(create_stmt)"
   ]
  },
  {
   "cell_type": "code",
   "execution_count": 10,
   "id": "0a5c81f7",
   "metadata": {},
   "outputs": [
    {
     "data": {
      "text/plain": [
       "<cassandra.cluster.ResultSet at 0x7f51dc14ba60>"
      ]
     },
     "execution_count": 10,
     "metadata": {},
     "output_type": "execute_result"
    }
   ],
   "source": [
    "# Insert some values\n",
    "insert_stmt = '''\n",
    "    INSERT INTO album_library (album_name, artist_name, year)\n",
    "    VALUES (%s, %s, %s)\n",
    "'''\n",
    "session.execute(insert_stmt, (\"Let it Be\", \"The Beatles\", 1970))\n",
    "session.execute(insert_stmt, (\"Rubber Soul\", \"The Beatles\", 1965))\n",
    "session.execute(insert_stmt, (\"My Generation\", \"The Who\", 1965))\n",
    "session.execute(insert_stmt, (\"The Monkees\", \"The Monkees\", 1966))\n",
    "session.execute(insert_stmt, (\"Close To You\", \"The Carpenters\", 1970))"
   ]
  },
  {
   "cell_type": "code",
   "execution_count": 11,
   "id": "081c3d24",
   "metadata": {},
   "outputs": [
    {
     "name": "stdout",
     "output_type": "stream",
     "text": [
      "1970 The Carpenters Close To You\n",
      "1970 The Beatles Let it Be\n"
     ]
    }
   ],
   "source": [
    "# Validate\n",
    "# music_library\n",
    "query = \"select * from music_library where year = 1970\";\n",
    "result = session.execute(query)\n",
    "for row in result:\n",
    "    print(row.year, row.artist_name, row.album_name)"
   ]
  },
  {
   "cell_type": "code",
   "execution_count": 14,
   "id": "04efc0db",
   "metadata": {},
   "outputs": [
    {
     "name": "stdout",
     "output_type": "stream",
     "text": [
      "The Beatles Let it Be 1970\n",
      "The Beatles Rubber Soul 1965\n"
     ]
    }
   ],
   "source": [
    "# Validate\n",
    "# artist_library\n",
    "query = \"select * from artist_library where artist_name = 'The Beatles'\";\n",
    "result = session.execute(query)\n",
    "for row in result:\n",
    "    print(row.artist_name, row.album_name, row.year)"
   ]
  },
  {
   "cell_type": "code",
   "execution_count": 17,
   "id": "1ac77553",
   "metadata": {},
   "outputs": [
    {
     "name": "stdout",
     "output_type": "stream",
     "text": [
      "Close To You The Carpenters 1970\n"
     ]
    }
   ],
   "source": [
    "# Validate\n",
    "# album_library\n",
    "query = \"select * from album_library where album_name = 'Close To You'\";\n",
    "result = session.execute(query)\n",
    "for row in result:\n",
    "    print(row.album_name, row.artist_name, row.year)"
   ]
  },
  {
   "cell_type": "code",
   "execution_count": 18,
   "id": "04d97faa",
   "metadata": {},
   "outputs": [],
   "source": [
    "# Drop tables and close connection\n",
    "session.execute('drop table music_library')\n",
    "session.execute('drop table album_library')\n",
    "session.execute('drop table artist_library')\n",
    "session.shutdown()"
   ]
  }
 ],
 "metadata": {
  "kernelspec": {
   "display_name": "Python [conda env:root] *",
   "language": "python",
   "name": "conda-root-py"
  },
  "language_info": {
   "codemirror_mode": {
    "name": "ipython",
    "version": 3
   },
   "file_extension": ".py",
   "mimetype": "text/x-python",
   "name": "python",
   "nbconvert_exporter": "python",
   "pygments_lexer": "ipython3",
   "version": "3.10.9"
  }
 },
 "nbformat": 4,
 "nbformat_minor": 5
}
