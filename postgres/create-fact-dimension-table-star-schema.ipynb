{
 "cells": [
  {
   "cell_type": "code",
   "execution_count": 1,
   "id": "c991d7c6",
   "metadata": {},
   "outputs": [],
   "source": [
    "import psycopg2"
   ]
  },
  {
   "cell_type": "code",
   "execution_count": 2,
   "id": "23a326a9",
   "metadata": {},
   "outputs": [],
   "source": [
    "# Connect to udacity database\n",
    "\n",
    "conn = psycopg2.connect(dbname='udacity',\n",
    "                        user='admin',\n",
    "                        password='admin',\n",
    "                        host='127.0.0.1')\n",
    "cur = conn.cursor()\n",
    "conn.set_session(autocommit=True)"
   ]
  },
  {
   "cell_type": "code",
   "execution_count": 4,
   "id": "ea326345",
   "metadata": {},
   "outputs": [],
   "source": [
    "# Create a fct_customer_transaction table\n",
    "\n",
    "cur.execute(\"CREATE TABLE IF NOT EXISTS fct_customer_transaction (customer_id int, store_id int, spent numeric);\")\n",
    "\n",
    "\n",
    "cur.execute(\"INSERT INTO fct_customer_transaction (customer_id, store_id, spent) \\\n",
    "             VALUES (%s, %s, %s)\", \\\n",
    "             (1, 1, 20.50))\n",
    "cur.execute(\"INSERT INTO fct_customer_transaction (customer_id, store_id, spent) \\\n",
    "             VALUES (%s, %s, %s)\", \\\n",
    "             (2, 1, 35.21))"
   ]
  },
  {
   "cell_type": "code",
   "execution_count": 5,
   "id": "eac65e3e",
   "metadata": {},
   "outputs": [],
   "source": [
    "# Create dim_items_purchased table\n",
    "\n",
    "cur.execute(\"CREATE TABLE IF NOT EXISTS items_purchased (customer_id int, item_number int, item_name varchar);\")\n",
    "cur.execute(\"INSERT INTO items_purchased (customer_id, item_number, item_name) \\\n",
    "             VALUES (%s, %s, %s)\", \\\n",
    "             (1, 1, \"Rubber Soul\"))\n",
    "cur.execute(\"INSERT INTO items_purchased (customer_id, item_number, item_name) \\\n",
    "             VALUES (%s, %s, %s)\", \\\n",
    "             (2, 3, \"Let It Be\"))    "
   ]
  },
  {
   "cell_type": "code",
   "execution_count": 7,
   "id": "88907887",
   "metadata": {},
   "outputs": [],
   "source": [
    "# Create dim_stores\n",
    "\n",
    "cur.execute(\"CREATE TABLE IF NOT EXISTS dim_store (store_id int, state varchar);\")\n",
    "cur.execute(\"INSERT INTO dim_store (store_id, state) \\\n",
    "             VALUES (%s, %s)\", \\\n",
    "             (1, \"CA\"))\n",
    "cur.execute(\"INSERT INTO dim_store (store_id, state) \\\n",
    "             VALUES (%s, %s)\", \\\n",
    "             (2, \"WA\"))"
   ]
  },
  {
   "cell_type": "code",
   "execution_count": 8,
   "id": "ad10ef24",
   "metadata": {},
   "outputs": [],
   "source": [
    "# Create dim_customer\n",
    "\n",
    "cur.execute(\"CREATE TABLE IF NOT EXISTS dim_customer (customer_id int, name varchar, rewards boolean);\")\n",
    "cur.execute(\"INSERT INTO dim_customer (customer_id, name, rewards) \\\n",
    "             VALUES (%s, %s, %s)\", \\\n",
    "             (1, \"Amanda\", True))\n",
    "cur.execute(\"INSERT INTO dim_customer (customer_id, name, rewards) \\\n",
    "             VALUES (%s, %s, %s)\", \\\n",
    "             (2, \"Toby\", False))"
   ]
  },
  {
   "cell_type": "code",
   "execution_count": 9,
   "id": "c756de7a",
   "metadata": {},
   "outputs": [],
   "source": [
    "# Having star schema we can answer multiple questions\n",
    "# a) What are the customers that spent more than 30 dollar, what did they buy and if they are rewards member\n",
    "cur.execute('''\n",
    "    select\n",
    "        dim_customer.name\n",
    "        ,items_purchased.item_name\n",
    "        ,dim_customer.rewards\n",
    "    from fct_customer_transaction\n",
    "    join dim_customer using (customer_id)\n",
    "    join items_purchased using (customer_id)\n",
    "    where spent > 30;\n",
    "''')"
   ]
  },
  {
   "cell_type": "code",
   "execution_count": 10,
   "id": "016c6f02",
   "metadata": {},
   "outputs": [
    {
     "name": "stdout",
     "output_type": "stream",
     "text": [
      "('Toby', 'Let It Be', False)\n"
     ]
    }
   ],
   "source": [
    "row = cur.fetchone()\n",
    "while row:\n",
    "    print(row)\n",
    "    row = cur.fetchone()"
   ]
  },
  {
   "cell_type": "code",
   "execution_count": null,
   "id": "1270625f",
   "metadata": {},
   "outputs": [],
   "source": []
  }
 ],
 "metadata": {
  "kernelspec": {
   "display_name": "Python [conda env:root] *",
   "language": "python",
   "name": "conda-root-py"
  },
  "language_info": {
   "codemirror_mode": {
    "name": "ipython",
    "version": 3
   },
   "file_extension": ".py",
   "mimetype": "text/x-python",
   "name": "python",
   "nbconvert_exporter": "python",
   "pygments_lexer": "ipython3",
   "version": "3.10.9"
  }
 },
 "nbformat": 4,
 "nbformat_minor": 5
}
