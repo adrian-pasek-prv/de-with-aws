{
 "cells": [
  {
   "cell_type": "code",
   "execution_count": 1,
   "id": "e13d0d00",
   "metadata": {},
   "outputs": [],
   "source": [
    "import psycopg2"
   ]
  },
  {
   "cell_type": "code",
   "execution_count": 2,
   "id": "7ffe8302",
   "metadata": {},
   "outputs": [],
   "source": [
    "# Always use try clauses when connecting to anything. Good practice\n",
    "try:\n",
    "    conn = psycopg2.connect(dbname='postgres',\n",
    "                            user='postgres',\n",
    "                            password='postgres',\n",
    "                            host='127.0.0.1',)\n",
    "except psycopg2.Error as e:\n",
    "    print('Error: Could not connect to Postgres instance:')\n",
    "    print(e)"
   ]
  },
  {
   "cell_type": "code",
   "execution_count": 3,
   "id": "c407d94e",
   "metadata": {},
   "outputs": [],
   "source": [
    "# Set session for autocommit\n",
    "conn.set_session(autocommit=True)"
   ]
  },
  {
   "cell_type": "code",
   "execution_count": 4,
   "id": "af2b49c8",
   "metadata": {},
   "outputs": [],
   "source": [
    "# Instansiate a cursor to execute queries\n",
    "try:\n",
    "    cur = conn.cursor()\n",
    "except psycopg2.Error as e:\n",
    "    print('Error: Could create a cursor for Postgres database:')\n",
    "    print(e)"
   ]
  },
  {
   "cell_type": "code",
   "execution_count": 5,
   "id": "df90757b",
   "metadata": {},
   "outputs": [],
   "source": [
    "# Create udacity database\n",
    "try:\n",
    "    cur.execute('CREATE DATABASE udacity')\n",
    "except psycopg2.Error as e:\n",
    "    print('Error: Could create a Postgres database:')\n",
    "    print(e)"
   ]
  },
  {
   "cell_type": "code",
   "execution_count": 7,
   "id": "85260708",
   "metadata": {},
   "outputs": [],
   "source": [
    "# Close current conn in order to connect to udacity database\n",
    "cur.close()"
   ]
  },
  {
   "cell_type": "code",
   "execution_count": 8,
   "id": "526219fb",
   "metadata": {},
   "outputs": [],
   "source": [
    "# Always use try clauses when connecting to anything. Good practice\n",
    "try:\n",
    "    conn = psycopg2.connect(dbname='udacity',\n",
    "                            user='postgres',\n",
    "                            password='postgres',\n",
    "                            host='127.0.0.1',)\n",
    "except psycopg2.Error as e:\n",
    "    print('Error: Could not connect to Postgres instance:')\n",
    "    print(e)"
   ]
  },
  {
   "cell_type": "code",
   "execution_count": 9,
   "id": "19a8d8e7",
   "metadata": {},
   "outputs": [],
   "source": [
    "# Instansiate a cursor to execute queries\n",
    "try:\n",
    "    cur = conn.cursor()\n",
    "except psycopg2.Error as e:\n",
    "    print('Error: Could create a cursor for Postgres database:')\n",
    "    print(e)"
   ]
  },
  {
   "cell_type": "code",
   "execution_count": 10,
   "id": "29bb0df1",
   "metadata": {},
   "outputs": [],
   "source": [
    "# Set session for autocommit\n",
    "conn.set_session(autocommit=True)"
   ]
  },
  {
   "cell_type": "code",
   "execution_count": 13,
   "id": "e3b9b6d3",
   "metadata": {},
   "outputs": [],
   "source": [
    "# Create a music library table\n",
    "try:\n",
    "    cur.execute('''\n",
    "                CREATE TABLE IF NOT EXISTS music_library\n",
    "                (album_name varchar, artist_name varchar, year int)\n",
    "                ''')\n",
    "except psycopg2.Error as e:\n",
    "    print('Error: Could not create a table:')\n",
    "    print(e)"
   ]
  },
  {
   "cell_type": "code",
   "execution_count": 20,
   "id": "997c3e26",
   "metadata": {},
   "outputs": [
    {
     "name": "stdout",
     "output_type": "stream",
     "text": [
      "[(1,)]\n"
     ]
    }
   ],
   "source": [
    "# Check if table does exists\n",
    "try:\n",
    "    cur.execute('''\n",
    "                SELECT COUNT(*) FROM music_library\n",
    "                ''')\n",
    "except psycopg2.Error as e:\n",
    "    print('Error: Could not execute SELECT statement:')\n",
    "    print(e)\n",
    "    \n",
    "print(cur.fetchall())"
   ]
  },
  {
   "cell_type": "code",
   "execution_count": 23,
   "id": "a4218df4",
   "metadata": {},
   "outputs": [],
   "source": [
    "# Insert some rows into a table\n",
    "try:\n",
    "    cur.executemany('''\n",
    "        INSERT INTO music_library (album_name, artist_name, year)\n",
    "        VALUES (%s, %s, %s)\n",
    "    ''', [\n",
    "            ('Let It Be', 'The Beatles', 1970),\n",
    "            ('Clash', 'Adrian Pasek', 2023)\n",
    "    ])\n",
    "except psycopg2.Error as e:\n",
    "    print('Error: Could not execute INSERT statement:')\n",
    "    print(e)"
   ]
  },
  {
   "cell_type": "code",
   "execution_count": 39,
   "id": "a2eec740",
   "metadata": {},
   "outputs": [],
   "source": [
    "# Check if table does exists\n",
    "try:\n",
    "    cur.execute('''\n",
    "                SELECT * FROM music_library\n",
    "                ''')\n",
    "except psycopg2.Error as e:\n",
    "    print('Error: Could not execute SELECT statement:')\n",
    "    print(e)"
   ]
  },
  {
   "cell_type": "code",
   "execution_count": 40,
   "id": "48016d21",
   "metadata": {},
   "outputs": [
    {
     "name": "stdout",
     "output_type": "stream",
     "text": [
      "('Let It Be', 'The Beatles', 1970)\n",
      "('Let It Be', 'The Beatles', 1970)\n",
      "('Clash', 'Adrian Pasek', 2023)\n"
     ]
    }
   ],
   "source": [
    "# Print rows as tuples from row that is a generator. \n",
    "row = cur.fetchone()\n",
    "while row:\n",
    "    print(row)\n",
    "    row = cur.fetchone()"
   ]
  },
  {
   "cell_type": "code",
   "execution_count": 41,
   "id": "f9f4b964",
   "metadata": {},
   "outputs": [],
   "source": [
    "cur.execute('DROP TABLE music_library')\n",
    "conn.close()"
   ]
  },
  {
   "cell_type": "code",
   "execution_count": null,
   "id": "1a9d64aa",
   "metadata": {},
   "outputs": [],
   "source": []
  }
 ],
 "metadata": {
  "kernelspec": {
   "display_name": "Python [conda env:root] *",
   "language": "python",
   "name": "conda-root-py"
  },
  "language_info": {
   "codemirror_mode": {
    "name": "ipython",
    "version": 3
   },
   "file_extension": ".py",
   "mimetype": "text/x-python",
   "name": "python",
   "nbconvert_exporter": "python",
   "pygments_lexer": "ipython3",
   "version": "3.9.16"
  }
 },
 "nbformat": 4,
 "nbformat_minor": 5
}
