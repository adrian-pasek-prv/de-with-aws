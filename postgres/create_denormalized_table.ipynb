{
 "cells": [
  {
   "cell_type": "code",
   "execution_count": 1,
   "id": "2bb36e94",
   "metadata": {},
   "outputs": [],
   "source": [
    "import psycopg2"
   ]
  },
  {
   "cell_type": "code",
   "execution_count": 2,
   "id": "e3ee1c25",
   "metadata": {},
   "outputs": [],
   "source": [
    "# Connect to udacity database\n",
    "conn = psycopg2.connect(dbname='udacity',\n",
    "                        user='admin',\n",
    "                        password='admin',\n",
    "                        host='127.0.0.1')\n",
    "cur = conn.cursor()\n",
    "conn.set_session(autocommit=True)"
   ]
  },
  {
   "cell_type": "code",
   "execution_count": 3,
   "id": "9189a03c",
   "metadata": {},
   "outputs": [],
   "source": [
    "# Create table song_length and insert rows\n",
    "cur.execute(\"CREATE TABLE IF NOT EXISTS song_length (song_id int, song_length int);\")\n",
    "cur.execute(\"INSERT INTO song_length (song_id, song_length) \\\n",
    "             VALUES (%s, %s)\", \\\n",
    "             (1, 163))\n",
    "cur.execute(\"INSERT INTO song_length (song_id, song_length) \\\n",
    "             VALUES (%s, %s)\", \\\n",
    "             (2, 137))  \n",
    "cur.execute(\"INSERT INTO song_length (song_id, song_length) \\\n",
    "             VALUES (%s, %s)\", \\\n",
    "             (3, 145))\n",
    "cur.execute(\"INSERT INTO song_length (song_id, song_length) \\\n",
    "             VALUES (%s, %s)\", \\\n",
    "             (4, 240))\n",
    "cur.execute(\"INSERT INTO song_length (song_id, song_length) \\\n",
    "             VALUES (%s, %s)\", \\\n",
    "             (5, 227))"
   ]
  },
  {
   "cell_type": "code",
   "execution_count": 4,
   "id": "fbabc275",
   "metadata": {},
   "outputs": [],
   "source": [
    "# In order to create denormalized table in order to run fast queries on it\n",
    "# we need to think about the queries themselves when creating such a table like:\n",
    "# a) I want a list of all my songs, with album name, artist and length\n",
    "# b) I want to know the total lenght of an album\n",
    "\n",
    "# a) I want a list of all my songs, with album name, artist and length\n",
    "cur.execute('''\n",
    "CREATE TABLE IF NOT EXISTS song_library_denormalized AS (\n",
    "    select\n",
    "        song_library.song_id\n",
    "        ,song_library.song_name\n",
    "        ,album_library.album_name\n",
    "        ,album_library.year\n",
    "        ,artist_library.artist_name\n",
    "        ,song_length.song_length\n",
    "    from song_library\n",
    "    join album_library using (album_id)\n",
    "    join artist_library using (artist_id)\n",
    "    join song_length using (song_id)\n",
    "    )\n",
    "''')"
   ]
  },
  {
   "cell_type": "code",
   "execution_count": 5,
   "id": "03a45ba6",
   "metadata": {},
   "outputs": [
    {
     "name": "stdout",
     "output_type": "stream",
     "text": [
      "(1, 'Michelle', 'Rubber Soul', 1965, 'The Beatles', 163)\n",
      "(2, 'Think For Yourself', 'Rubber Soul', 1965, 'The Beatles', 137)\n",
      "(3, 'In My Life', 'Rubber Soul', 1965, 'The Beatles', 145)\n",
      "(4, 'Let It Be', 'Let It Be', 1970, 'The Beatles', 240)\n",
      "(5, 'Across the Universe', 'Let It Be', 1970, 'The Beatles', 227)\n"
     ]
    }
   ],
   "source": [
    "# Out data is duplicated across rows but that's okay. This is the point of denormalized tables\n",
    "# We want users to query our data super fast\n",
    "cur.execute('SELECT * from song_library_denormalized')\n",
    "row = cur.fetchone()\n",
    "while row:\n",
    "    print(row)\n",
    "    row = cur.fetchone()"
   ]
  },
  {
   "cell_type": "code",
   "execution_count": 6,
   "id": "2e922852",
   "metadata": {},
   "outputs": [
    {
     "name": "stdout",
     "output_type": "stream",
     "text": [
      "(1, 'Rubber Soul', 445)\n",
      "(2, 'Let It Be', 467)\n"
     ]
    }
   ],
   "source": [
    "# b) I want to know the total lenght of an album\n",
    "cur.execute('''\n",
    "CREATE TABLE IF NOT EXISTS album_total_length AS (\n",
    "    select\n",
    "        album_library.album_id\n",
    "        ,album_library.album_name\n",
    "        ,sum(song_length.song_length) as album_length\n",
    "    from album_library\n",
    "    join song_library using (album_id)\n",
    "    join song_length using (song_id)\n",
    "    group by 1,2\n",
    "    order by album_id\n",
    "    )\n",
    "''')\n",
    "cur.execute('SELECT * from album_total_length')\n",
    "row = cur.fetchone()\n",
    "while row:\n",
    "    print(row)\n",
    "    row = cur.fetchone()"
   ]
  },
  {
   "cell_type": "code",
   "execution_count": 7,
   "id": "3daba9fe",
   "metadata": {},
   "outputs": [],
   "source": [
    "cur.close()\n",
    "conn.close()"
   ]
  }
 ],
 "metadata": {
  "kernelspec": {
   "display_name": "Python [conda env:root] *",
   "language": "python",
   "name": "conda-root-py"
  },
  "language_info": {
   "codemirror_mode": {
    "name": "ipython",
    "version": 3
   },
   "file_extension": ".py",
   "mimetype": "text/x-python",
   "name": "python",
   "nbconvert_exporter": "python",
   "pygments_lexer": "ipython3",
   "version": "3.10.9"
  }
 },
 "nbformat": 4,
 "nbformat_minor": 5
}
