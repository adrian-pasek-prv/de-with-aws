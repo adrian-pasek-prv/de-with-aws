{
 "cells": [
  {
   "cell_type": "code",
   "execution_count": 1,
   "id": "6319ce33",
   "metadata": {},
   "outputs": [],
   "source": [
    "import psycopg2"
   ]
  },
  {
   "cell_type": "code",
   "execution_count": 2,
   "id": "6ed41bb6",
   "metadata": {},
   "outputs": [],
   "source": [
    "# Connect to database\n",
    "# In order to check on what host does local Postgres instance is running run cmd \"sudo netstat -plunt |grep postmaster\"\n",
    "conn = psycopg2.connect(dbname='postgres',\n",
    "                        user='postgres',\n",
    "                        password='postgres',\n",
    "                        host='127.0.0.1',)"
   ]
  },
  {
   "cell_type": "code",
   "execution_count": 3,
   "id": "9cddcb8d",
   "metadata": {},
   "outputs": [],
   "source": [
    "# Use a cursor to execute a query on conn\n",
    "cur = conn.cursor()"
   ]
  },
  {
   "cell_type": "code",
   "execution_count": 4,
   "id": "ac0ac912",
   "metadata": {},
   "outputs": [],
   "source": [
    "# Set session for auto-commit. Since Postgres is ACID database we need to commit each transaction\n",
    "# For demo purposes, let's just do auto-commit\n",
    "conn.set_session(autocommit=True)"
   ]
  },
  {
   "cell_type": "code",
   "execution_count": 6,
   "id": "3b5ea238",
   "metadata": {},
   "outputs": [],
   "source": [
    "# Create a test table\n",
    "cur.execute('CREATE TABLE test (col1 int, col2 int, col3 int)')"
   ]
  },
  {
   "cell_type": "code",
   "execution_count": 8,
   "id": "77753762",
   "metadata": {},
   "outputs": [
    {
     "data": {
      "text/plain": [
       "[]"
      ]
     },
     "execution_count": 8,
     "metadata": {},
     "output_type": "execute_result"
    }
   ],
   "source": [
    "# We need to fecht results from the cursor. Simply executing will output nothing\n",
    "cur.execute('select * from test')\n",
    "cur.fetchall()"
   ]
  },
  {
   "cell_type": "code",
   "execution_count": 9,
   "id": "8b96082b",
   "metadata": {},
   "outputs": [],
   "source": [
    "# Drop the table\n",
    "cur.execute('drop table test')"
   ]
  },
  {
   "cell_type": "code",
   "execution_count": null,
   "id": "4b53d4bf",
   "metadata": {},
   "outputs": [],
   "source": []
  }
 ],
 "metadata": {
  "kernelspec": {
   "display_name": "Python [conda env:root] *",
   "language": "python",
   "name": "conda-root-py"
  },
  "language_info": {
   "codemirror_mode": {
    "name": "ipython",
    "version": 3
   },
   "file_extension": ".py",
   "mimetype": "text/x-python",
   "name": "python",
   "nbconvert_exporter": "python",
   "pygments_lexer": "ipython3",
   "version": "3.9.16"
  }
 },
 "nbformat": 4,
 "nbformat_minor": 5
}
