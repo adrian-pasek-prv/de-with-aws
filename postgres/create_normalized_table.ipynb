{
 "cells": [
  {
   "cell_type": "code",
   "execution_count": 2,
   "id": "4df32735",
   "metadata": {},
   "outputs": [],
   "source": [
    "import psycopg2"
   ]
  },
  {
   "cell_type": "code",
   "execution_count": 6,
   "id": "8deb71ea",
   "metadata": {},
   "outputs": [],
   "source": [
    "# Setup udacity database\n",
    "conn = psycopg2.connect(dbname='postgres',\n",
    "                        user='admin',\n",
    "                        password='admin',\n",
    "                        host='127.0.0.1')\n",
    "cur = conn.cursor()\n",
    "conn.set_session(autocommit=True)\n",
    "cur.execute('CREATE DATABASE udacity')"
   ]
  },
  {
   "cell_type": "code",
   "execution_count": 12,
   "id": "b0e109f3",
   "metadata": {},
   "outputs": [],
   "source": [
    "# Connect to udacity database\n",
    "conn = psycopg2.connect(dbname='udacity',\n",
    "                        user='admin',\n",
    "                        password='admin',\n",
    "                        host='127.0.0.1')\n",
    "cur = conn.cursor()\n",
    "conn.set_session(autocommit=True)"
   ]
  },
  {
   "cell_type": "code",
   "execution_count": 13,
   "id": "487c0b59",
   "metadata": {},
   "outputs": [],
   "source": [
    "# Create music library table and insert some rows\n",
    "# text[] is a data type that contains a list of strings\n",
    "cur.execute(\"CREATE TABLE IF NOT EXISTS music_library (album_id int, \\\n",
    "                                                       album_name varchar, artist_name varchar, \\\n",
    "                                                       year int, songs text[]);\")\n",
    "cur.execute(\"INSERT INTO music_library (album_id, album_name, artist_name, year, songs) \\\n",
    "                 VALUES (%s, %s, %s, %s, %s)\", \\\n",
    "                 (1, \"Rubber Soul\", \"The Beatles\", 1965, [\"Michelle\", \"Think For Yourself\", \"In My Life\"]))\n",
    "cur.execute(\"INSERT INTO music_library (album_id, album_name, artist_name, year, songs) \\\n",
    "                 VALUES (%s, %s, %s, %s, %s)\", \\\n",
    "                 (2, \"Let It Be\", \"The Beatles\", 1970, [\"Let It Be\", \"Across The Universe\"]))"
   ]
  },
  {
   "cell_type": "code",
   "execution_count": 14,
   "id": "7b4fb461",
   "metadata": {},
   "outputs": [],
   "source": [
    "# Get the data to 1NF\n",
    "# - seperate data into tables (we don't need a list of songs as a value in a table)\n",
    "cur.execute(\"CREATE TABLE IF NOT EXISTS music_library2 (album_id int, \\\n",
    "                                                           album_name varchar, artist_name varchar, \\\n",
    "                                                           year int, song_name varchar);\")\n",
    "# Insert values where each row is a song\n",
    "cur.execute(\"INSERT INTO music_library2 (album_id, album_name, artist_name, year, song_name) \\\n",
    "                 VALUES (%s, %s, %s, %s, %s)\", \\\n",
    "                 (1, \"Rubber Soul\", \"The Beatles\", 1965, \"Michelle\"))\n",
    "cur.execute(\"INSERT INTO music_library2 (album_id, album_name, artist_name, year, song_name) \\\n",
    "             VALUES (%s, %s, %s, %s, %s)\", \\\n",
    "             (1, \"Rubber Soul\", \"The Beatles\", 1965, \"Think For Yourself\"))\n",
    "cur.execute(\"INSERT INTO music_library2 (album_id, album_name, artist_name, year, song_name) \\\n",
    "             VALUES (%s, %s, %s, %s, %s)\", \\\n",
    "             (1, \"Rubber Soul\", \"The Beatles\", 1965, \"In My Life\"))\n",
    "cur.execute(\"INSERT INTO music_library2 (album_id, album_name, artist_name, year, song_name) \\\n",
    "             VALUES (%s, %s, %s, %s, %s)\", \\\n",
    "             (2, \"Let It Be\", \"The Beatles\", 1970, \"Let It Be\"))\n",
    "cur.execute(\"INSERT INTO music_library2 (album_id, album_name, artist_name, year, song_name) \\\n",
    "             VALUES (%s, %s, %s, %s, %s)\", \\\n",
    "             (2, \"Let It Be\", \"The Beatles\", 1970, \"Across The Universe\"))"
   ]
  },
  {
   "cell_type": "code",
   "execution_count": 15,
   "id": "8ac1c222",
   "metadata": {},
   "outputs": [
    {
     "name": "stdout",
     "output_type": "stream",
     "text": [
      "(1, 'Rubber Soul', 'The Beatles', 1965, 'Michelle')\n",
      "(1, 'Rubber Soul', 'The Beatles', 1965, 'Think For Yourself')\n",
      "(1, 'Rubber Soul', 'The Beatles', 1965, 'In My Life')\n",
      "(2, 'Let It Be', 'The Beatles', 1970, 'Let It Be')\n",
      "(2, 'Let It Be', 'The Beatles', 1970, 'Across The Universe')\n"
     ]
    }
   ],
   "source": [
    "# We got the data in 1NF, each row is unique and we don't have songs in a list\n",
    "# However there is a lot of duplicated values like alub_id, alub_name etc.\n",
    "cur.execute('SELECT * from music_library2')\n",
    "row = cur.fetchone()\n",
    "while row:\n",
    "    print(row)\n",
    "    row = cur.fetchone()"
   ]
  },
  {
   "cell_type": "code",
   "execution_count": 17,
   "id": "4bc63b1e",
   "metadata": {},
   "outputs": [],
   "source": [
    "# Move data into 2NF - reduce duplicates\n",
    "# We will split this data further into song_library and album_library where each entity\n",
    "# will have a primary key\n",
    "cur.execute(\"CREATE TABLE IF NOT EXISTS album_library (album_id int, \\\n",
    "                                                       album_name varchar, artist_name varchar, \\\n",
    "                                                       year int);\")\n",
    "cur.execute(\"CREATE TABLE IF NOT EXISTS song_library (song_id int, album_id int, \\\n",
    "                                                      song_name varchar);\")\n",
    "cur.execute(\"INSERT INTO album_library (album_id, album_name, artist_name, year) \\\n",
    "             VALUES (%s, %s, %s, %s)\", \\\n",
    "             (1, \"Rubber Soul\", \"The Beatles\", 1965))\n",
    "cur.execute(\"INSERT INTO album_library (album_id, album_name, artist_name, year) \\\n",
    "             VALUES (%s, %s, %s, %s)\", \\\n",
    "             (2, \"Let It Be\", \"The Beatles\", 1970))\n",
    "cur.execute(\"INSERT INTO song_library (song_id, album_id, song_name) \\\n",
    "             VALUES (%s, %s, %s)\", \\\n",
    "             (1, 1, \"Michelle\"))\n",
    "cur.execute(\"INSERT INTO song_library (song_id, album_id, song_name) \\\n",
    "             VALUES (%s, %s, %s)\", \\\n",
    "             (2, 1, \"Think For Yourself\"))\n",
    "cur.execute(\"INSERT INTO song_library (song_id, album_id, song_name) \\\n",
    "             VALUES (%s, %s, %s)\", \\\n",
    "             (3, 1, \"In My Life\"))\n",
    "cur.execute(\"INSERT INTO song_library (song_id, album_id, song_name) \\\n",
    "             VALUES (%s, %s, %s)\", \\\n",
    "             (4, 2, \"Let It Be\"))\n",
    "cur.execute(\"INSERT INTO song_library (song_id, album_id, song_name) \\\n",
    "             VALUES (%s, %s, %s)\", \\\n",
    "             (5, 2, \"Across the Universe\"))"
   ]
  },
  {
   "cell_type": "code",
   "execution_count": 18,
   "id": "d3b4eff8",
   "metadata": {},
   "outputs": [
    {
     "name": "stdout",
     "output_type": "stream",
     "text": [
      "Table: album_library\n",
      "\n",
      "(1, 'Rubber Soul', 'The Beatles', 1965)\n",
      "(2, 'Let It Be', 'The Beatles', 1970)\n",
      "\n",
      "Table: song_library\n",
      "\n",
      "(1, 1, 'Michelle')\n",
      "(2, 1, 'Think For Yourself')\n",
      "(3, 1, 'In My Life')\n",
      "(4, 2, 'Let It Be')\n",
      "(5, 2, 'Across the Universe')\n"
     ]
    }
   ],
   "source": [
    "# Print out the results\n",
    "print(\"Table: album_library\\n\")\n",
    "cur.execute(\"SELECT * FROM album_library;\")\n",
    "row = cur.fetchone()\n",
    "while row:\n",
    "   print(row)\n",
    "   row = cur.fetchone()\n",
    "print(\"\\nTable: song_library\\n\")\n",
    "cur.execute(\"SELECT * FROM song_library;\")\n",
    "row = cur.fetchone()\n",
    "while row:\n",
    "   print(row)\n",
    "   row = cur.fetchone()"
   ]
  },
  {
   "cell_type": "code",
   "execution_count": 19,
   "id": "0dbdc87a",
   "metadata": {},
   "outputs": [
    {
     "name": "stdout",
     "output_type": "stream",
     "text": [
      "(1, 'Rubber Soul', 'The Beatles', 1965, 1, 1, 'Michelle')\n",
      "(1, 'Rubber Soul', 'The Beatles', 1965, 2, 1, 'Think For Yourself')\n",
      "(1, 'Rubber Soul', 'The Beatles', 1965, 3, 1, 'In My Life')\n",
      "(2, 'Let It Be', 'The Beatles', 1970, 4, 2, 'Let It Be')\n",
      "(2, 'Let It Be', 'The Beatles', 1970, 5, 2, 'Across the Universe')\n"
     ]
    }
   ],
   "source": [
    "# Since our data is separated and have primary keys, we can join it together\n",
    "# to get the same view as in 1NF but now we don't use duplicated data\n",
    "cur.execute(\"SELECT * FROM album_library JOIN\\\n",
    "             song_library ON album_library.album_id = song_library.album_id ;\")\n",
    "row = cur.fetchone()\n",
    "while row:\n",
    "   print(row)\n",
    "   row = cur.fetchone()"
   ]
  },
  {
   "cell_type": "code",
   "execution_count": 26,
   "id": "e1cb1f3d",
   "metadata": {},
   "outputs": [],
   "source": [
    "# Moving data to 3NF\n",
    "# We still have some room to improve. album_library contains a transitive value of a band that is \n",
    "# duplicated across rows. We will need to create an artist table. So that The Beatles will exists on their own in that table\n",
    "# We then don't have to update this data across rows in album_library table\n",
    "\n",
    "# Create album library\n",
    "cur.execute(\"CREATE TABLE IF NOT EXISTS album_library (album_id int, \\\n",
    "                                                       album_name varchar, artist_id int, \\\n",
    "                                                       year int);\")\n",
    "cur.execute(\"INSERT INTO album_library (album_id, album_name, artist_id, year) \\\n",
    "             VALUES (%s, %s, %s, %s)\", \\\n",
    "             (1, \"Rubber Soul\", 1, 1965))\n",
    "cur.execute(\"INSERT INTO album_library (album_id, album_name, artist_id, year) \\\n",
    "             VALUES (%s, %s, %s, %s)\", \\\n",
    "             (2, \"Let It Be\", 1, 1970))\n",
    "# Create artist library\n",
    "cur.execute(\"CREATE TABLE IF NOT EXISTS artist_library (artist_id int, \\\n",
    "                                                       artist_name varchar);\")\n",
    "cur.execute(\"INSERT INTO artist_library (artist_id, artist_name) \\\n",
    "             VALUES (%s, %s)\", \\\n",
    "             (1, \"The Beatles\"))\n",
    "# Create song library\n",
    "cur.execute(\"CREATE TABLE IF NOT EXISTS song_library (song_id int, album_id int, \\\n",
    "                                                      song_name varchar);\")\n",
    "cur.execute(\"INSERT INTO song_library (song_id, album_id, song_name) \\\n",
    "             VALUES (%s, %s, %s)\", \\\n",
    "             (1, 1, \"Michelle\"))\n",
    "cur.execute(\"INSERT INTO song_library (song_id, album_id, song_name) \\\n",
    "             VALUES (%s, %s, %s)\", \\\n",
    "             (2, 1, \"Think For Yourself\"))\n",
    "cur.execute(\"INSERT INTO song_library (song_id, album_id, song_name) \\\n",
    "             VALUES (%s, %s, %s)\", \\\n",
    "             (3, 1, \"In My Life\"))\n",
    "cur.execute(\"INSERT INTO song_library (song_id, album_id, song_name) \\\n",
    "             VALUES (%s, %s, %s)\", \\\n",
    "             (4, 2, \"Let It Be\"))\n",
    "cur.execute(\"INSERT INTO song_library (song_id, album_id, song_name) \\\n",
    "             VALUES (%s, %s, %s)\", \\\n",
    "             (5, 2, \"Across the Universe\"))"
   ]
  },
  {
   "cell_type": "code",
   "execution_count": 27,
   "id": "8a872ec3",
   "metadata": {},
   "outputs": [
    {
     "name": "stdout",
     "output_type": "stream",
     "text": [
      "(1, 'The Beatles', 1, 'Rubber Soul', 1, 1965, 1, 1, 'Michelle')\n",
      "(1, 'The Beatles', 1, 'Rubber Soul', 1, 1965, 2, 1, 'Think For Yourself')\n",
      "(1, 'The Beatles', 1, 'Rubber Soul', 1, 1965, 3, 1, 'In My Life')\n",
      "(1, 'The Beatles', 2, 'Let It Be', 1, 1970, 4, 2, 'Let It Be')\n",
      "(1, 'The Beatles', 2, 'Let It Be', 1, 1970, 5, 2, 'Across the Universe')\n"
     ]
    }
   ],
   "source": [
    "# Now that we have reached 3NF, we can do a join\n",
    " \n",
    "cur.execute(\"SELECT * FROM (artist_library JOIN album_library ON \\\n",
    "                           artist_library.artist_id = album_library.artist_id) JOIN \\\n",
    "                           song_library ON album_library.album_id=song_library.album_id;\")\n",
    "\n",
    "row = cur.fetchone()\n",
    "while row:\n",
    "   print(row)\n",
    "   row = cur.fetchone()"
   ]
  },
  {
   "cell_type": "code",
   "execution_count": null,
   "id": "8334388a",
   "metadata": {},
   "outputs": [],
   "source": []
  }
 ],
 "metadata": {
  "kernelspec": {
   "display_name": "Python [conda env:root] *",
   "language": "python",
   "name": "conda-root-py"
  },
  "language_info": {
   "codemirror_mode": {
    "name": "ipython",
    "version": 3
   },
   "file_extension": ".py",
   "mimetype": "text/x-python",
   "name": "python",
   "nbconvert_exporter": "python",
   "pygments_lexer": "ipython3",
   "version": "3.10.9"
  }
 },
 "nbformat": 4,
 "nbformat_minor": 5
}
